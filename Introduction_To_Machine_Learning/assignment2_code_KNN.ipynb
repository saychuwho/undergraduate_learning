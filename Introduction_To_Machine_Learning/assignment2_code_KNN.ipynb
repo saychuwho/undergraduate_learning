{
 "cells": [
  {
   "cell_type": "code",
   "execution_count": 1,
   "metadata": {},
   "outputs": [],
   "source": [
    "# 혹시나 필요할지도 모르는 것들\n",
    "from IPython.display import display\n",
    "import numpy as np\n",
    "import matplotlib.pyplot as plt\n",
    "\n",
    "import pandas as pd\n",
    "\n",
    "# 불필요한 warning이 나오지 않도록 하는 곳\n",
    "import warnings\n",
    "warnings.filterwarnings(\"ignore\", category=FutureWarning)"
   ]
  },
  {
   "cell_type": "code",
   "execution_count": 2,
   "metadata": {},
   "outputs": [],
   "source": [
    "# KNN을 사용\n",
    "from sklearn.neighbors import KNeighborsClassifier"
   ]
  },
  {
   "cell_type": "code",
   "execution_count": 3,
   "metadata": {},
   "outputs": [
    {
     "name": "stdout",
     "output_type": "stream",
     "text": [
      "(70000, 784) (70000,)\n"
     ]
    }
   ],
   "source": [
    "# mnist 데이터셋을 불러오자\n",
    "from sklearn.datasets import fetch_openml\n",
    "mnist = fetch_openml('mnist_784')\n",
    "print(mnist.data.shape, mnist.target.shape)"
   ]
  },
  {
   "cell_type": "code",
   "execution_count": 24,
   "metadata": {},
   "outputs": [
    {
     "name": "stdout",
     "output_type": "stream",
     "text": [
      "(63000, 784)\n",
      "(7000, 784)\n",
      "(63000,)\n",
      "(7000,)\n"
     ]
    }
   ],
   "source": [
    "# train set과 test set을 분리해야 한다.\n",
    "# train과 test set을 그냥 numpy형태로 다 바꿔서 귀찮게 하지 말자.\n",
    "from sklearn.model_selection import train_test_split\n",
    "mnist_data = mnist.data.to_numpy()\n",
    "mnist_target = mnist.target.to_numpy()\n",
    "# training set을 default setting으로 해서 해보자.\n",
    "# training set을 줄여서 한번 해보자.\n",
    "# training set을 늘려서 한번 해보자. \n",
    "X_train, X_test, y_train, y_test = train_test_split(mnist_data, mnist_target, train_size=0.9, random_state=0)\n",
    "# 잘 나뉘었는가 확인\n",
    "print(X_train.shape)\n",
    "print(X_test.shape)\n",
    "print(y_train.shape)\n",
    "print(y_test.shape)"
   ]
  },
  {
   "cell_type": "code",
   "execution_count": 25,
   "metadata": {},
   "outputs": [],
   "source": [
    "# training data를 이용해 KNN 모델을 만들기\n",
    "# default 값은 5이다.\n",
    "# knn은 학습에 시간이 거의 안걸리고 n_neighbors 수에만 영향을 받으니까 for list로 만들어놓은 다음에 한꺼번에 비교를 해보자\n",
    "# 계속 과적합이 나는 모델이 제일 정확도가 높은데??? // train set을 좀 줄인 버전과 좀 늘린 버전을 가지고 테스트 할 필요가 있다."
   ]
  },
  {
   "cell_type": "code",
   "execution_count": 26,
   "metadata": {},
   "outputs": [
    {
     "name": "stdout",
     "output_type": "stream",
     "text": [
      "accuracy of n_neighbor 1 calculated\n",
      "accuracy of n_neighbor 2 calculated\n",
      "accuracy of n_neighbor 3 calculated\n",
      "accuracy of n_neighbor 4 calculated\n",
      "accuracy of n_neighbor 5 calculated\n",
      "accuracy of n_neighbor 6 calculated\n",
      "accuracy of n_neighbor 7 calculated\n",
      "accuracy of n_neighbor 8 calculated\n",
      "accuracy of n_neighbor 9 calculated\n",
      "accuracy of n_neighbor 10 calculated\n"
     ]
    }
   ],
   "source": [
    "# 예측을 잘 하는가? >> 역시 lazy model. 예측할 때 시간이 오래 걸리는구먼\n",
    "\n",
    "knn_models = []\n",
    "knn_train_score = []\n",
    "knn_test_score = []\n",
    "for i in range(1,11):\n",
    "    knn = KNeighborsClassifier(n_neighbors=i).fit(X_train, y_train)\n",
    "    trainScore = knn.score(X_train, y_train)\n",
    "    testScore = knn.score(X_test, y_test)\n",
    "    knn_models.append(knn)\n",
    "    knn_train_score.append(trainScore)\n",
    "    knn_test_score.append(testScore)\n",
    "    print(\"accuracy of n_neighbor {} calculated\".format(i))"
   ]
  },
  {
   "cell_type": "code",
   "execution_count": 27,
   "metadata": {},
   "outputs": [
    {
     "name": "stdout",
     "output_type": "stream",
     "text": [
      "n_neighbors : 1 / train accuracy : 1.0 / test accuracy : 0.9738571428571429 \n",
      "\n",
      "n_neighbors : 2 / train accuracy : 0.9853174603174604 / test accuracy : 0.9714285714285714 \n",
      "\n",
      "n_neighbors : 3 / train accuracy : 0.9861269841269841 / test accuracy : 0.9754285714285714 \n",
      "\n",
      "n_neighbors : 4 / train accuracy : 0.9823968253968254 / test accuracy : 0.9745714285714285 \n",
      "\n",
      "n_neighbors : 5 / train accuracy : 0.9816825396825397 / test accuracy : 0.9758571428571429 \n",
      "\n",
      "n_neighbors : 6 / train accuracy : 0.9792698412698413 / test accuracy : 0.9735714285714285 \n",
      "\n",
      "n_neighbors : 7 / train accuracy : 0.9783333333333334 / test accuracy : 0.975 \n",
      "\n",
      "n_neighbors : 8 / train accuracy : 0.9767142857142858 / test accuracy : 0.9737142857142858 \n",
      "\n",
      "n_neighbors : 9 / train accuracy : 0.9762857142857143 / test accuracy : 0.9724285714285714 \n",
      "\n",
      "n_neighbors : 10 / train accuracy : 0.9751746031746031 / test accuracy : 0.9714285714285714 \n",
      "\n"
     ]
    }
   ],
   "source": [
    "# train score와 test score를 출력하자\n",
    "for n, trainScore, testScore in zip(range(1,len(knn_models)+1),knn_train_score, knn_test_score):\n",
    "    print(\"n_neighbors : {} / train accuracy : {} / test accuracy : {} \\n\".format(n, trainScore, testScore))\n"
   ]
  },
  {
   "attachments": {},
   "cell_type": "markdown",
   "metadata": {},
   "source": [
    "#### train set의 크기에 따른 정확도\n",
    "##### default값인 0.75일때\n",
    "train set의 크기를 기본값으로 했을 때는 n_neighbor가 1, 3일때 test set의 예측치가 0.971로 가장 좋았다. \n",
    "n_neighbor가 1일때는 train accuracy가 과적합 상태이지만 n_neighbor=3일때는 과적합 상태가 아니다.\n",
    "##### 0.5 일때\n",
    "train set을 0.5일때 또한 1, 3일때 test set의 예측치가 0.967로 가장 높았다.\n",
    "그리고 1일때는 과적합, 3일때는 과적합은 아니다. \n",
    "##### 0.9일때\n",
    "5에서 예측치가 0.976으로 가장 높았다. 또한 train set accuray가 0.981로 과적합 상태 또한 아니다.\n",
    "##### 결론\n",
    "train set을 0.9로 하고 n_neighbor = 5일때 test set accuracy가 0.976으로 가장 좋은 결과가 나왔다."
   ]
  },
  {
   "cell_type": "code",
   "execution_count": 28,
   "metadata": {},
   "outputs": [
    {
     "name": "stdout",
     "output_type": "stream",
     "text": [
      "prediction with plot // n_neighbors : 5\n",
      "prediction 1 : 2\n",
      "prediction 2 : 1\n",
      "prediction 3 : 7\n",
      "prediction 4 : 1\n",
      "prediction 5 : 0\n",
      "prediction 6 : 2\n",
      "prediction 7 : 5\n",
      "prediction 8 : 5\n",
      "prediction 9 : 0\n",
      "prediction 10 : 1\n"
     ]
    },
    {
     "data": {
      "image/png": "[encoded data removed]",
      "text/plain": [
       "<Figure size 640x480 with 10 Axes>"
      ]
     },
     "metadata": {},
     "output_type": "display_data"
    }
   ],
   "source": [
    "# test set에서 랜덤하게 10개를 뽑은 후 이를 출력해서 예측값과 실제 값이 맞는지 틀린지 확인해보자\n",
    "# 각 knn에 대해서도 출력을 한다.\n",
    "rand_index = np.random.randint(low=0, high=len(X_test), size=10)\n",
    "\n",
    "Nneighbor = 5\n",
    "knn = knn_models[Nneighbor]\n",
    "print(\"prediction with plot // n_neighbors : {}\".format(Nneighbor))\n",
    "for randin, i in zip(rand_index, range(1,len(rand_index)+1)):\n",
    "    predict = X_test[randin].reshape(1,-1)\n",
    "    print(\"prediction {} : {}\".format(i,knn.predict(predict)[0]))\n",
    "    plt.subplot(2,5,i)\n",
    "    plt.imshow((X_test[randin].reshape(28,28)), cmap=plt.cm.gray_r, interpolation='nearest')\n"
   ]
  }
 ],
 "metadata": {
  "kernelspec": {
   "display_name": "Python 3",
   "language": "python",
   "name": "python3"
  },
  "language_info": {
   "codemirror_mode": {
    "name": "ipython",
    "version": 3
   },
   "file_extension": ".py",
   "mimetype": "text/x-python",
   "name": "python",
   "nbconvert_exporter": "python",
   "pygments_lexer": "ipython3",
   "version": "3.10.10"
  },
  "orig_nbformat": 4
 },
 "nbformat": 4,
 "nbformat_minor": 2
}
